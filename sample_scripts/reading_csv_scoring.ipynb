{
 "cells": [
  {
   "cell_type": "markdown",
   "metadata": {},
   "source": [
    "# Introduction\n",
    "Here's a WIP jupyter notebook for testing of the code in optimization. This is a markdown section, which is rendered using markdown, displaying formatted text. [Here's a jupyter notebook primer](https://realpython.com/jupyter-notebook-introduction/#creating-a-notebook), which should be a quick overview of some nifty things to use in the notebook. I'll throw some comments in here to guide what a good notebook looks like."
   ]
  },
  {
   "cell_type": "code",
   "execution_count": 2,
   "metadata": {},
   "outputs": [],
   "source": [
    "# Naturally, the first order of business is to import libraries that you'll need\n",
    "# library imports\n",
    "import pandas as pd\n",
    "from sklearn.metrics import mean_squared_error\n",
    "from math import sqrt\n",
    "import numpy as np\n",
    "import sys\n",
    "import os\n",
    "\n",
    "# project imports\n",
    "sys.path.insert(0, os.path.abspath('..'))\n",
    "from optimization_utils.xml_generate_utils import render_xml"
   ]
  },
  {
   "cell_type": "code",
   "execution_count": 3,
   "metadata": {},
   "outputs": [],
   "source": [
    "# because certain variables will change depending on where the notebook is run, for example,\n",
    "# it's a good idea to designate a section for variables that the user can change in one place\n",
    "# initialize local variables\n",
    "PATH_TO_DATA='../data'"
   ]
  },
  {
   "cell_type": "markdown",
   "metadata": {},
   "source": [
    "It's generally good style to relegate the intention of a single cell block to a single purpose. One place to read input data, one place to define a helper function, etc. etc."
   ]
  },
  {
   "cell_type": "code",
   "execution_count": 4,
   "metadata": {},
   "outputs": [],
   "source": [
    "# Read CSV data to be compared\n",
    "# TODO maybe abstract away this CSV reading? I'm not sure how consistent the CSV format will be\n",
    "IIHS = pd.read_csv(fr'{PATH_TO_DATA}/IIHS_lac.csv', skiprows=4, na_values = None, encoding = \"UTF-8\")\n",
    "IIHS = IIHS.rename(columns= {' /2/1006 ( /Scaled_Hybrid_III_50th/HeadCG_acc ) CFC1000 - Res. acceleration (m/s**2)': 'HRes',\n",
    "                       ' /2/1006 ( /Scaled_Hybrid_III_50th/HeadCG_acc ) CFC1000 - X-comp. acceleration (m/s**2)': 'HX',\n",
    "                       ' /2/1006 ( /Scaled_Hybrid_III_50th/HeadCG_acc ) CFC1000 - Y-comp. acceleration (m/s**2)': 'HY',\n",
    "                       ' /2/1006 ( /Scaled_Hybrid_III_50th/HeadCG_acc ) CFC1000 - Z-comp. acceleration (m/s**2)': 'HZ',\n",
    "                       ' /2/6004 ( /Scaled_Hybrid_III_50th/Pelvis_acc ) CFC1000 - Res. acceleration (m/s**2)': 'PRes',\n",
    "                       ' /2/6004 ( /Scaled_Hybrid_III_50th/Pelvis_acc ) CFC1000 - X-comp. acceleration (m/s**2)': 'PX',\n",
    "                       ' /2/6004 ( /Scaled_Hybrid_III_50th/Pelvis_acc ) CFC1000 - Y-comp. acceleration (m/s**2)': 'PY',\n",
    "                       ' /2/6004 ( /Scaled_Hybrid_III_50th/Pelvis_acc ) CFC1000 - Z-comp. acceleration (m/s**2)': 'PZ'})\n",
    "\n",
    "IIHS = IIHS.dropna()\n",
    "\n",
    "MadOut = pd.read_csv (fr'{PATH_TO_DATA}/Madymo_lac.csv', skiprows=4, na_values = None, encoding = \"UTF-8\")\n",
    "MadOut = MadOut.rename(columns= {' /2/1006 ( /Scaled_Hybrid_III_50th/HeadCG_acc ) CFC1000 - Res. acceleration (m/s**2)': 'HRes',\n",
    "                       ' /2/1006 ( /Scaled_Hybrid_III_50th/HeadCG_acc ) CFC1000 - X-comp. acceleration (m/s**2)': 'HX',\n",
    "                       ' /2/1006 ( /Scaled_Hybrid_III_50th/HeadCG_acc ) CFC1000 - Y-comp. acceleration (m/s**2)': 'HY',\n",
    "                       ' /2/1006 ( /Scaled_Hybrid_III_50th/HeadCG_acc ) CFC1000 - Z-comp. acceleration (m/s**2)': 'HZ',\n",
    "                       ' /2/6004 ( /Scaled_Hybrid_III_50th/Pelvis_acc ) CFC1000 - Res. acceleration (m/s**2)': 'PRes',\n",
    "                       ' /2/6004 ( /Scaled_Hybrid_III_50th/Pelvis_acc ) CFC1000 - X-comp. acceleration (m/s**2)': 'PX',\n",
    "                       ' /2/6004 ( /Scaled_Hybrid_III_50th/Pelvis_acc ) CFC1000 - Y-comp. acceleration (m/s**2)': 'PY',\n",
    "                       ' /2/6004 ( /Scaled_Hybrid_III_50th/Pelvis_acc ) CFC1000 - Z-comp. acceleration (m/s**2)': 'PZ'})\n",
    "\n",
    "MadOut = MadOut.dropna()"
   ]
  },
  {
   "cell_type": "code",
   "execution_count": 5,
   "metadata": {},
   "outputs": [],
   "source": [
    "# TODO verify accuracy of this RMSE implementation - my numbers are different from Dominic's old implementation\n",
    "def get_dfs_rmse(df1, df2):\n",
    "    \"\"\"\n",
    "    Get the RMSE of two pandas dataframes\n",
    "    https://statweb.stanford.edu/~susan/courses/s60/split/node60.html\n",
    "    \"\"\"\n",
    "    # asssert that the arrays have the same contents\n",
    "    assert(list(df1.columns)==list(df2.columns))\n",
    "    assert(df1.shape == df2.shape)\n",
    "    # TODO maybe add more assertions - how do we know that we can actually compute RMSE of these two dataframes?\n",
    "    \n",
    "    a = df1.values ; b = df2.values\n",
    "    return np.sqrt(np.mean((a-b)**2))"
   ]
  },
  {
   "cell_type": "code",
   "execution_count": 6,
   "metadata": {},
   "outputs": [
    {
     "data": {
      "text/plain": [
       "22.260082961096003"
      ]
     },
     "execution_count": 6,
     "metadata": {},
     "output_type": "execute_result"
    }
   ],
   "source": [
    "get_dfs_rmse(IIHS, MadOut)"
   ]
  },
  {
   "cell_type": "code",
   "execution_count": 12,
   "metadata": {},
   "outputs": [
    {
     "data": {
      "text/plain": [
       "36.90322930765455"
      ]
     },
     "execution_count": 12,
     "metadata": {},
     "output_type": "execute_result"
    }
   ],
   "source": [
    "# verifying RMSE calculation\n",
    "# for x0, x1, RMSE = 36.90323 -> https://www.statology.org/rmse-calculator/\n",
    "x0 = [1,5,100,23.3,44,50.4]\n",
    "x1 = [2,3,10.3,21.3,40,60.4]\n",
    "\n",
    "get_dfs_rmse(pd.DataFrame(x0), pd.DataFrame(x1))"
   ]
  }
 ],
 "metadata": {
  "kernelspec": {
   "display_name": "Python 3",
   "language": "python",
   "name": "python3"
  },
  "language_info": {
   "codemirror_mode": {
    "name": "ipython",
    "version": 3
   },
   "file_extension": ".py",
   "mimetype": "text/x-python",
   "name": "python",
   "nbconvert_exporter": "python",
   "pygments_lexer": "ipython3",
   "version": "3.7.3"
  }
 },
 "nbformat": 4,
 "nbformat_minor": 2
}
