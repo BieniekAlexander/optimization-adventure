{
 "cells": [
  {
   "cell_type": "markdown",
   "metadata": {},
   "source": [
    "# Introduction\n",
    "Here's a WIP jupyter notebook for testing of the code in optimization. This is a markdown section, which is rendered using markdown, displaying formatted text. [Here's a jupyter notebook primer](https://realpython.com/jupyter-notebook-introduction/#creating-a-notebook), which should be a quick overview of some nifty things to use in the notebook. I'll throw some comments in here to guide what a good notebook looks like."
   ]
  },
  {
   "cell_type": "code",
   "execution_count": 1,
   "metadata": {},
   "outputs": [],
   "source": [
    "# Naturally, the first order of business is to import libraries that you'll need\n",
    "# library imports\n",
    "import pandas as pd\n",
    "from sklearn.metrics import mean_squared_error\n",
    "from math import sqrt\n",
    "import numpy as np\n",
    "import sys\n",
    "import os\n",
    "\n",
    "# project imports\n",
    "sys.path.insert(0, os.path.abspath('..'))\n",
    "from optimization_utils.xml_generate_utils import render_xml\n",
    "from optimization_utils.result_utils import get_madymo_summary, get_dfs_rmse"
   ]
  },
  {
   "cell_type": "code",
   "execution_count": 2,
   "metadata": {},
   "outputs": [],
   "source": [
    "# because certain variables will change depending on where the notebook is run, for example,\n",
    "# it's a good idea to designate a section for variables that the user can change in one place\n",
    "# initialize local variables\n",
    "PATH_TO_DATA='../data'"
   ]
  },
  {
   "cell_type": "code",
   "execution_count": 3,
   "metadata": {},
   "outputs": [],
   "source": [
    "# Read CSV data to be compared\n",
    "IIHS = get_madymo_summary(fr'{PATH_TO_DATA}/IIHS_lac.csv')\n",
    "MadOut = get_madymo_summary(fr'{PATH_TO_DATA}/Madymo_lac.csv')"
   ]
  },
  {
   "cell_type": "code",
   "execution_count": 4,
   "metadata": {},
   "outputs": [
    {
     "data": {
      "text/plain": [
       "22.260082961096003"
      ]
     },
     "execution_count": 4,
     "metadata": {},
     "output_type": "execute_result"
    }
   ],
   "source": [
    "get_dfs_rmse(IIHS, MadOut)"
   ]
  }
 ],
 "metadata": {
  "kernelspec": {
   "display_name": "Python 3",
   "language": "python",
   "name": "python3"
  },
  "language_info": {
   "codemirror_mode": {
    "name": "ipython",
    "version": 3
   },
   "file_extension": ".py",
   "mimetype": "text/x-python",
   "name": "python",
   "nbconvert_exporter": "python",
   "pygments_lexer": "ipython3",
   "version": "3.7.3"
  }
 },
 "nbformat": 4,
 "nbformat_minor": 2
}
