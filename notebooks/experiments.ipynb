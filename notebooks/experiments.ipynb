{
 "cells": [
  {
   "cell_type": "markdown",
   "metadata": {},
   "source": [
    "# Introduction\n",
    "This notebook will contain code for quickly and procedurally running experiments and comparing their results."
   ]
  },
  {
   "cell_type": "code",
   "execution_count": null,
   "metadata": {},
   "outputs": [],
   "source": [
    "# package imports\n",
    "import sys\n",
    "import os\n",
    "import subprocess\n",
    "import numpy as np\n",
    "\n",
    "# project imports\n",
    "sys.path.insert(0, os.path.abspath('..'))\n",
    "from optimization_utils.xml_generate_utils import render_xml\n",
    "from optimization_utils.result_utils import get_madymo_summary, get_dfs_rmse"
   ]
  },
  {
   "cell_type": "code",
   "execution_count": null,
   "metadata": {},
   "outputs": [],
   "source": [
    "# arguments for running in local environment\n",
    "# notice that the variable name is capitalized, by convention,\n",
    "# because we want to indicate that we shouldn't ever change its value\n",
    "PATH_TO_DATA = fr'../data'\n",
    "REAL_WORLD_DF = get_madymo_summary(fr\"{PATH_TO_DATA}/IIHS_lac.csv\")"
   ]
  },
  {
   "cell_type": "code",
   "execution_count": null,
   "metadata": {},
   "outputs": [],
   "source": [
    "# enumerate some experimentional arguments to try\n",
    "experiment_dicts = [\n",
    "\t{\"Friction_Headrest\": \"1.5\", \"Friction_Seat\": \"2\"},\n",
    "\t{\"Friction_Headrest\": \"1.5\", \"Friction_Seat\": \"1.5\"},\n",
    "\t{\"Friction_Headrest\": \"1.5\"},\n",
    "]"
   ]
  },
  {
   "cell_type": "code",
   "execution_count": null,
   "metadata": {},
   "outputs": [],
   "source": [
    "# TODO now I see why you're changing directory (cd) into that path :)\n",
    "# but I think it's generally not good practice to cd while running code if you can help it,\n",
    "# because it's very easy to lose where your program is running from, so we should change this a bit\n",
    "os.chdir(PATH_TO_DATA)\n",
    "\n",
    "# Run experiment loop\n",
    "for experiment_dict in experiment_dicts:\n",
    "    # generate the XML which will be used to run the experiment\n",
    "    render_xml(\n",
    "        fr\"{PATH_TO_DATA}/Defines.xml\",\n",
    "        fr\"{PATH_TO_DATA}/experiment.xml\",\n",
    "        experiment_dict)\n",
    "    \n",
    "    # call the madymo subprocess to generate experimental results\n",
    "    # notice that the experiment will overwrite whatever was output previously - hopefully that's okay?\n",
    "    subprocess.call(['madymo20201', '-3d', fr\"{PATH_TO_DATA}/experiment.xml\"])\n",
    "    \n",
    "    # read the experimental data spit out by Madymo and compare to the real data\n",
    "    # TODO I'm assuming I have the filename right, maybe fix it though\n",
    "    experimental_df = get_madymo_summary(\"Madymo_lac.csv\")\n",
    "    rmse = get_dfs_rmse(REAL_WORLD_DF, experimental_df)\n",
    "    \n",
    "    # record the RMSE of the outputs with the experimental arguments that it came from\n",
    "    experiment_dict['rmse'] = rmse"
   ]
  },
  {
   "cell_type": "code",
   "execution_count": null,
   "metadata": {},
   "outputs": [],
   "source": [
    "# Look through the experimental results - which parameter set was optimal?\n",
    "min_dict = min(\n",
    "    experiment_dicts,\n",
    "    key = lambda x: float(x['rmse']))\n",
    "\n",
    "print(min_dict)"
   ]
  }
 ],
 "metadata": {
  "kernelspec": {
   "display_name": "Python 3",
   "language": "python",
   "name": "python3"
  },
  "language_info": {
   "codemirror_mode": {
    "name": "ipython",
    "version": 3
   },
   "file_extension": ".py",
   "mimetype": "text/x-python",
   "name": "python",
   "nbconvert_exporter": "python",
   "pygments_lexer": "ipython3",
   "version": "3.7.3"
  }
 },
 "nbformat": 4,
 "nbformat_minor": 2
}
