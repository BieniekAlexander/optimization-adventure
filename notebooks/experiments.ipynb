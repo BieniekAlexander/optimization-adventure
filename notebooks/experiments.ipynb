{
 "cells": [
  {
   "cell_type": "markdown",
   "metadata": {},
   "source": [
    "# Introduction\n",
    "This notebook will contain code for quickly and procedurally running experiments and comparing their results."
   ]
  },
  {
   "cell_type": "code",
   "execution_count": 3,
   "metadata": {},
   "outputs": [],
   "source": [
    "# package imports\n",
    "import sys\n",
    "import os\n",
    "import subprocess\n",
    "import numpy as np\n",
    "from itertools import product\n",
    "from skopt import gp_minimize\n",
    "\n",
    "# project imports\n",
    "sys.path.insert(0, os.path.abspath('..'))\n",
    "from optimization_utils.xml_generate_utils import render_xml\n",
    "from optimization_utils.result_utils import get_madymo_summary, get_dfs_rmse"
   ]
  },
  {
   "cell_type": "code",
   "execution_count": 4,
   "metadata": {},
   "outputs": [],
   "source": [
    "# arguments for running in local environment\n",
    "# notice that the variable name is capitalized, by convention,\n",
    "# because we want to indicate that we shouldn't ever change its value\n",
    "PATH_TO_DATA = fr'../data'\n",
    "REAL_WORLD_DF = get_madymo_summary(fr\"{PATH_TO_DATA}/IIHS_lac.csv\")"
   ]
  },
  {
   "cell_type": "code",
   "execution_count": 5,
   "metadata": {},
   "outputs": [],
   "source": [
    "# enumerate some experimentional arguments to try\n",
    "rangeHR = map(str, np.arange(0.0, 1.2, 0.2).tolist())\n",
    "rangeSeat = map(str, np.arange(0.0, 1.2, 0.2).tolist())\n",
    "experiment_dicts = [dict(zip(('Friction_Headrest','Friction_Seat'), (i,j))) for i,j in product(rangeHR,rangeSeat)]"
   ]
  },
  {
   "cell_type": "code",
   "execution_count": 6,
   "metadata": {},
   "outputs": [],
   "source": [
    "# create a minimization function wrapper\n",
    "def sim_rmse_function(dimension_names,\n",
    "        reference_csv = REAL_WORLD_DF,\n",
    "        defines_xml_tempate_path = fr\"{PATH_TO_DATA}/Defines.xml\",\n",
    "        defines_xml_output_path = fr\"{PATH_TO_DATA}/experiment.xml\",\n",
    "        simulation_xml_path= fr\"{PATH_TO_DATA}/Madymo.xml\"):\n",
    "    \"\"\"\n",
    "    Return a function to return the RMSE between a simulation parameter input dict and the real world data\n",
    "    \"\"\"\n",
    "    def get_rmse(args):\n",
    "        \"\"\"\n",
    "        create an rmse function to be returned for optimization\n",
    "        \"\"\"\n",
    "        os.chdir(PATH_TO_DATA) # TODO changing directory into path for madymo.xml, refactor code to not need this\n",
    "        \n",
    "        # generate the XML which will be used to run the experiment\n",
    "        experiment_dict = zip(dimension_names, args)\n",
    "        render_xml(defines_xml_tempate_path, defines_xml_output_path, experiment_dict)\n",
    "        \n",
    "        # call the madymo subprocess to generate experimental results\n",
    "        subprocess.call(['madymo20201', '-3d', fr\"{PATH_TO_DATA}/Madymo.xml\"])\n",
    "        \n",
    "        # read the experimental data spit out by Madymo and compare to the real data\n",
    "        experimental_df = get_madymo_summary(\"Madymo_lac.csv\")\n",
    "        return get_dfs_rmse(reference_csv, experimental_df)\n",
    "        \n",
    "        \n",
    "    # return the generated function\n",
    "    return get_rmse"
   ]
  },
  {
   "cell_type": "code",
   "execution_count": null,
   "metadata": {},
   "outputs": [],
   "source": [
    "# Run the optimizer to sample function space for good inputs, and print a summary\n",
    "dimensions = [\n",
    "    {'name': 'Friction_Headrest', 'min': 0, 'max': 1.2},\n",
    "    {'name': 'Friction_Seat', 'min': 0, 'max': 1.2}\n",
    "]\n",
    "\n",
    "results = gp_minimize(\n",
    "        func = sim_rmse_function([d['name'] for d in dimensions]),\n",
    "        dimensions = [(d['min'], d['max']) for d in dimensions],\n",
    "        n_initial_points = 10,\n",
    "        n_calls=25,\n",
    "        x0 = [.5, .5, .5],\n",
    "        random_state = 100)\n",
    "\n",
    "print(f\"\"\"\n",
    "results summary:\n",
    "best inputs found:\\t{results.x}\n",
    "trial count:\\t{len(results.func_vals)}\n",
    "\"\"\")\n",
    "\n",
    "best_input = results.x\n",
    "best_input_dict = zip([d['name'] for d in dimensions], best_input)"
   ]
  },
  {
   "cell_type": "code",
   "execution_count": null,
   "metadata": {},
   "outputs": [],
   "source": [
    "#Re-run the optimized run\n",
    "render_xml(\n",
    "        fr\"{PATH_TO_DATA}/Defines.xml\",\n",
    "        fr\"{PATH_TO_DATA}/experiment.xml\",\n",
    "        min_dict)\n",
    "subprocess.call(['madymo20201', '-3d', fr\"{PATH_TO_DATA}/Madymo.xml\"])\n",
    "experimental_df = get_madymo_summary(\"Madymo_lac.csv\")"
   ]
  },
  {
   "cell_type": "code",
   "execution_count": null,
   "metadata": {},
   "outputs": [],
   "source": [
    "#IIHS_list = experimental_df.values\n",
    "#Mad_list = REAL_WORLD_DF.values\n",
    "#IIHS_HA = [IIHS_list[:0],IIHS_list[:1]]\n",
    "#Mad_HA = [Mad_list[0], Mad_list[0]]\n",
    "\n",
    "#print(IIHS_list[2:])\n",
    "\n",
    "ex_list = list(experimental_df.columns)\n",
    "Mad_list = list(REAL_WORLD_DF.columns)"
   ]
  },
  {
   "cell_type": "code",
   "execution_count": null,
   "metadata": {},
   "outputs": [],
   "source": [
    "import matplotlib.pyplot as plt\n",
    "fig, ax = plt.subplots()\n",
    "ax.plot(experimental_df[ex_list[0]], experimental_df[ex_list[1]], 'r--', label='Experimental Head Accel')\n",
    "ax.plot(REAL_WORLD_DF[Mad_list[0]], REAL_WORLD_DF[Mad_list[1]], 'r', label='IIHS Head Accel')\n",
    "ax.plot(experimental_df[ex_list[0]], experimental_df[ex_list[5]], 'b--', label='Experimental Pelvis Accel')\n",
    "ax.plot(REAL_WORLD_DF[Mad_list[0]], REAL_WORLD_DF[Mad_list[5]], 'b', label='IIHS Pelvis Accel')\n",
    "plt.xlabel('Time - sec')\n",
    "plt.ylabel('Acceleration - m/s/s')\n",
    "leg = ax.legend();"
   ]
  },
  {
   "cell_type": "code",
   "execution_count": null,
   "metadata": {},
   "outputs": [],
   "source": []
  }
 ],
 "metadata": {
  "kernelspec": {
   "display_name": "Python 3",
   "language": "python",
   "name": "python3"
  },
  "language_info": {
   "codemirror_mode": {
    "name": "ipython",
    "version": 3
   },
   "file_extension": ".py",
   "mimetype": "text/x-python",
   "name": "python",
   "nbconvert_exporter": "python",
   "pygments_lexer": "ipython3",
   "version": "3.7.3"
  }
 },
 "nbformat": 4,
 "nbformat_minor": 2
}
